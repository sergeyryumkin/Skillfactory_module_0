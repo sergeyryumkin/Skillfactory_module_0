{
 "cells": [
  {
   "cell_type": "code",
   "execution_count": 1,
   "metadata": {},
   "outputs": [
    {
     "name": "stdout",
     "output_type": "stream",
     "text": [
      "Загадано число от 1 до 100\n",
      "50\n",
      "Угадываемое число больше 50 \n",
      "75\n",
      "Угадываемое число меньше 75 \n",
      "62\n",
      "Угадываемое число больше 62 \n",
      "67\n",
      "Угадываемое число меньше 67 \n",
      "65\n",
      "Угадываемое число больше 65 \n",
      "66\n",
      "Вы угадали число 66 за 6 попыток.\n"
     ]
    }
   ],
   "source": [
    "import numpy as np\n",
    "\n",
    "count = 0                           \n",
    "number = np.random.randint(1,101)\n",
    "print (\"Загадано число от 1 до 100\")\n",
    "    \n",
    "while True:                        \n",
    "    predict = int(input())         \n",
    "    count += 1                     \n",
    "    if number == predict: break    \n",
    "    elif number > predict: print (f\"Угадываемое число больше {predict} \")\n",
    "    elif number < predict: print (f\"Угадываемое число меньше {predict} \")\n",
    "            \n",
    "print (f\"Вы угадали число {number} за {count} попыток.\")"
   ]
  },
  {
   "cell_type": "code",
   "execution_count": 2,
   "metadata": {},
   "outputs": [
    {
     "name": "stdout",
     "output_type": "stream",
     "text": [
      "Загадано число от 1 до 100\n",
      "Вы угадали число 97 за 97 попыток.\n"
     ]
    }
   ],
   "source": [
    "number = np.random.randint(1,101)\n",
    "print (\"Загадано число от 1 до 100\")\n",
    "for count in range(1,101):   \n",
    "  if number == count: break       \n",
    "print (f\"Вы угадали число {number} за {count} попыток.\")  "
   ]
  },
  {
   "cell_type": "code",
   "execution_count": 3,
   "metadata": {},
   "outputs": [],
   "source": [
    "def game_core_v1(number):\n",
    "  count = 0\n",
    "  while True:\n",
    "    count+=1\n",
    "    predict = np.random.randint(1,101)\n",
    "    if number == predict: \n",
    "      return count"
   ]
  },
  {
   "cell_type": "code",
   "execution_count": 4,
   "metadata": {},
   "outputs": [],
   "source": [
    "def score_game(game_core):\n",
    "    count_ls = []\n",
    "    np.random.seed(1) \n",
    "    random_array = np.random.randint(1,101, size=(1000))\n",
    "    for number in random_array:\n",
    "        count_ls.append(game_core(number))\n",
    "    score = int(np.mean(count_ls))\n",
    "    print(f\"Ваш алгоритм угадывает число в среднем за {score} попыток\")\n",
    "    return(score)"
   ]
  },
  {
   "cell_type": "code",
   "execution_count": 5,
   "metadata": {},
   "outputs": [
    {
     "name": "stdout",
     "output_type": "stream",
     "text": [
      "Ваш алгоритм угадывает число в среднем за 101 попыток\n"
     ]
    },
    {
     "data": {
      "text/plain": [
       "101"
      ]
     },
     "execution_count": 5,
     "metadata": {},
     "output_type": "execute_result"
    }
   ],
   "source": [
    "score_game(game_core_v1)"
   ]
  },
  {
   "cell_type": "code",
   "execution_count": 6,
   "metadata": {},
   "outputs": [],
   "source": [
    "def game_core_v2(number):\n",
    "      count = 1\n",
    "      predict = np.random.randint(1,101)\n",
    "      while number != predict:\n",
    "         count+=1\n",
    "         if number > predict: \n",
    "             predict += 1\n",
    "         elif number < predict: \n",
    "             predict -= 1\n",
    "      return(count)"
   ]
  },
  {
   "cell_type": "code",
   "execution_count": 8,
   "metadata": {},
   "outputs": [
    {
     "name": "stdout",
     "output_type": "stream",
     "text": [
      "Ваш алгоритм угадывает число в среднем за 33 попыток\n"
     ]
    },
    {
     "data": {
      "text/plain": [
       "33"
      ]
     },
     "execution_count": 8,
     "metadata": {},
     "output_type": "execute_result"
    }
   ],
   "source": [
    "score_game(game_core_v2)"
   ]
  },
  {
   "cell_type": "code",
   "execution_count": 12,
   "metadata": {},
   "outputs": [
    {
     "name": "stdout",
     "output_type": "stream",
     "text": [
      "Ваш алгоритм угадывает число в среднем за 5 попыток\n"
     ]
    },
    {
     "data": {
      "text/plain": [
       "5"
      ]
     },
     "execution_count": 12,
     "metadata": {},
     "output_type": "execute_result"
    }
   ],
   "source": [
    "def game_core(number):\n",
    "    count = 1\n",
    "    minimum = 0\n",
    "    maximum = 101\n",
    "\n",
    "    predict = (maximum + minimum) // 2\n",
    "    while number != predict:\n",
    "        count += 1\n",
    "        if number > predict:\n",
    "            minimum = predict\n",
    "        elif number <= predict:\n",
    "            maximum = predict\n",
    "        \n",
    "        predict = (maximum + minimum) // 2\n",
    "    return count\n",
    "\n",
    "score_game(game_core)\n",
    "    "
   ]
  },
  {
   "cell_type": "code",
   "execution_count": null,
   "metadata": {},
   "outputs": [],
   "source": []
  }
 ],
 "metadata": {
  "kernelspec": {
   "display_name": "Python 3",
   "language": "python",
   "name": "python3"
  },
  "language_info": {
   "codemirror_mode": {
    "name": "ipython",
    "version": 3
   },
   "file_extension": ".py",
   "mimetype": "text/x-python",
   "name": "python",
   "nbconvert_exporter": "python",
   "pygments_lexer": "ipython3",
   "version": "3.8.3"
  }
 },
 "nbformat": 4,
 "nbformat_minor": 4
}
